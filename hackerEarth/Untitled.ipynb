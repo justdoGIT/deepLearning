{
 "cells": [
  {
   "cell_type": "code",
   "execution_count": 1,
   "metadata": {},
   "outputs": [],
   "source": [
    "import glob\n",
    "import io\n",
    "import math\n",
    "import os\n",
    "\n",
    "from IPython import display\n",
    "from matplotlib import cm\n",
    "from matplotlib import gridspec\n",
    "from matplotlib import pyplot as plt\n",
    "import numpy as np\n",
    "import pandas as pd\n",
    "import seaborn as sns\n",
    "from sklearn import metrics\n",
    "import tensorflow as tf\n",
    "from tensorflow.python.data import Dataset\n",
    "\n",
    "tf.logging.set_verbosity(tf.logging.ERROR)\n",
    "pd.options.display.max_rows = 10\n",
    "pd.options.display.float_format = '{:.1f}'.format"
   ]
  },
  {
   "cell_type": "code",
   "execution_count": 30,
   "metadata": {},
   "outputs": [
    {
     "name": "stdout",
     "output_type": "stream",
     "text": [
      "train_data shape:  (13000, 64, 64, 3)\n",
      "test_data shape: (6000, 64, 64, 3)\n"
     ]
    }
   ],
   "source": [
    "BASE_DIR = '/home/kamal/codes/deepLearning/hackerEarth/'\n",
    "TRAIN_DIR = '/home/kamal/codes/deepLearning/hackerEarth/train_dir/train_data'\n",
    "TEST_DIR = '/home/kamal/codes/deepLearning/hackerEarth/test_dir/test_data'\n",
    "IMG_SIZE = 64\n",
    "data = np.load(BASE_DIR + 'trainbeg.npy')\n",
    "test_data = np.load(BASE_DIR + 'testbeg.npy')\n",
    "print(\"train_data shape: \", data.shape)\n",
    "print(\"test_data shape:\", test_data.shape)"
   ]
  },
  {
   "cell_type": "code",
   "execution_count": 6,
   "metadata": {},
   "outputs": [
    {
     "name": "stdout",
     "output_type": "stream",
     "text": [
      "(9100, 64, 64, 3)\n",
      "(3900, 64, 64, 3)\n"
     ]
    }
   ],
   "source": [
    "train_data = data[:9100]\n",
    "print(train_data.shape)\n",
    "validation_data = data[9100:]\n",
    "print(validation_data.shape)"
   ]
  },
  {
   "cell_type": "code",
   "execution_count": 7,
   "metadata": {},
   "outputs": [
    {
     "name": "stdout",
     "output_type": "stream",
     "text": [
      "(13000, 1)\n",
      "(9100, 1)\n",
      "(3900, 1)\n"
     ]
    }
   ],
   "source": [
    "labels = np.load(BASE_DIR + 'trainLabels.npy')\n",
    "print(labels.shape)\n",
    "train_labels = labels[:9100]\n",
    "print(train_labels.shape)\n",
    "validation_labels = labels[9100:]\n",
    "print(validation_labels.shape)"
   ]
  },
  {
   "cell_type": "code",
   "execution_count": 11,
   "metadata": {},
   "outputs": [
    {
     "data": {
      "text/plain": [
       "<matplotlib.image.AxesImage at 0x7f94eb5d20f0>"
      ]
     },
     "execution_count": 11,
     "metadata": {},
     "output_type": "execute_result"
    },
    {
     "data": {
      "image/png": "[encoded data removed]",
      "text/plain": [
       "<matplotlib.figure.Figure at 0x7f94ed6833c8>"
      ]
     },
     "metadata": {},
     "output_type": "display_data"
    }
   ],
   "source": [
    "plt.imshow(np.array(train_data[10]))"
   ]
  },
  {
   "cell_type": "code",
   "execution_count": 22,
   "metadata": {},
   "outputs": [],
   "source": [
    "#HYPERPARAMETERS\n",
    "steps = 4800 # number of samples in trainiing set\n",
    "epochs = 50 #number of epochs\n",
    "step_size = 32 # \n",
    "total_batch = int(steps/step_size)\n",
    "LR = 0.0001"
   ]
  },
  {
   "cell_type": "code",
   "execution_count": 12,
   "metadata": {},
   "outputs": [],
   "source": [
    "def init_weights(shape):\n",
    "    init_random_dist = tf.truncated_normal(shape, stddev=0.1)\n",
    "    return tf.Variable(init_random_dist)"
   ]
  },
  {
   "cell_type": "code",
   "execution_count": 13,
   "metadata": {},
   "outputs": [],
   "source": [
    "def init_bias(shape):\n",
    "    init_bias_vals = tf.constant(0.1, shape=shape)\n",
    "    return tf.Variable(init_bias_vals)"
   ]
  },
  {
   "cell_type": "code",
   "execution_count": 14,
   "metadata": {},
   "outputs": [],
   "source": [
    "def conv2d(x, W):\n",
    "    return tf.nn.conv2d(x, W, strides=[1, 1, 1, 1], padding='SAME')"
   ]
  },
  {
   "cell_type": "code",
   "execution_count": 15,
   "metadata": {},
   "outputs": [],
   "source": [
    "def max_pool_2by2(x):\n",
    "    return tf.nn.max_pool(x, ksize=[1, 2, 2, 1],\n",
    "                          strides=[1, 2, 2, 1], padding='SAME')"
   ]
  },
  {
   "cell_type": "code",
   "execution_count": 16,
   "metadata": {},
   "outputs": [],
   "source": [
    "def convolutional_layer(input_x, shape):\n",
    "    W = init_weights(shape)\n",
    "    b = init_bias([shape[3]])\n",
    "    return tf.nn.relu(conv2d(input_x, W) + b)"
   ]
  },
  {
   "cell_type": "code",
   "execution_count": 17,
   "metadata": {},
   "outputs": [],
   "source": [
    "def normal_full_layer(input_layer, size):\n",
    "    input_size = int(input_layer.get_shape()[1])\n",
    "    W = init_weights([input_size, size])\n",
    "    b = init_bias([size])\n",
    "    return tf.matmul(input_layer, W) + b"
   ]
  },
  {
   "cell_type": "code",
   "execution_count": 18,
   "metadata": {},
   "outputs": [],
   "source": [
    "tf.reset_default_graph()\n",
    "x = tf.placeholder(tf.float32,shape=[None,64,64,3])\n",
    "y_true = tf.placeholder(tf.float32,shape=[None,4])"
   ]
  },
  {
   "cell_type": "code",
   "execution_count": 19,
   "metadata": {},
   "outputs": [],
   "source": [
    "with tf.name_scope('Model'):\n",
    "    convo_1 = convolutional_layer(x,shape=[4,4,3,32])\n",
    "    convo_1_pooling = max_pool_2by2(convo_1)\n",
    "    convo_2 = convolutional_layer(convo_1_pooling,shape=[4,4,32,16])\n",
    "    convo_2_pooling = max_pool_2by2(convo_2)\n",
    "    convo_3 = convolutional_layer(convo_2_pooling,shape=[4,4,16,8])\n",
    "    convo_3_pooling = max_pool_2by2(convo_3)\n",
    "    convo_4 = convolutional_layer(convo_3_pooling,shape=[4,4,8,4])\n",
    "    convo_4_pooling = max_pool_2by2(convo_4)\n",
    "    convo_2_flat = tf.reshape(convo_4_pooling,[-1,5*5*4])\n",
    "    \n",
    "    full_layer_one = tf.nn.relu(normal_full_layer(convo_2_flat,80))\n",
    "    hold_prob1 = tf.placeholder(tf.float32)\n",
    "    full_one_dropout = tf.nn.dropout(full_layer_one,keep_prob=hold_prob1)\n",
    "    \n",
    "    full_layer_two = tf.nn.relu(normal_full_layer(full_one_dropout,40))\n",
    "    hold_prob2 = tf.placeholder(tf.float32)\n",
    "    full_two_dropout = tf.nn.dropout(full_layer_two,keep_prob=hold_prob2)\n",
    "                                     \n",
    "    full_layer_three = tf.nn.relu(normal_full_layer(full_two_dropout,20))\n",
    "    hold_prob3 = tf.placeholder(tf.float32)\n",
    "    full_three_dropout = tf.nn.dropout(full_layer_three,keep_prob=hold_prob3)\n",
    "    \n",
    "    full_layer_four = tf.nn.relu(normal_full_layer(full_three_dropout,10))\n",
    "    hold_prob4 = tf.placeholder(tf.float32)\n",
    "    full_four_dropout = tf.nn.dropout(full_layer_four,keep_prob=hold_prob4)\n",
    "    \n",
    "    y_pred = normal_full_layer(full_four_dropout,4)"
   ]
  },
  {
   "cell_type": "code",
   "execution_count": 20,
   "metadata": {},
   "outputs": [],
   "source": [
    "#Defining Loss Function\n",
    "with tf.name_scope('Loss'):\n",
    "    cross_entropy = tf.reduce_mean(tf.nn.softmax_cross_entropy_with_logits_v2(labels=y_true,logits=y_pred))"
   ]
  },
  {
   "cell_type": "code",
   "execution_count": 23,
   "metadata": {},
   "outputs": [],
   "source": [
    "#Defining objectve\n",
    "with tf.name_scope('ADAM'):\n",
    "    train = tf.train.AdamOptimizer(learning_rate=LR).minimize(cross_entropy)"
   ]
  },
  {
   "cell_type": "code",
   "execution_count": 24,
   "metadata": {},
   "outputs": [],
   "source": [
    "#Defining Accuracy\n",
    "with tf.name_scope('Accuracy'):\n",
    "    matches = tf.equal(tf.argmax(y_pred,1),tf.argmax(y_true,1))\n",
    "    acc = tf.reduce_mean(tf.cast(matches,tf.float32))"
   ]
  },
  {
   "cell_type": "code",
   "execution_count": 25,
   "metadata": {},
   "outputs": [],
   "source": [
    "#Starting variables\n",
    "init = tf.global_variables_initializer()"
   ]
  },
  {
   "cell_type": "code",
   "execution_count": 26,
   "metadata": {},
   "outputs": [],
   "source": [
    "tf.summary.scalar(\"loss\", cross_entropy)\n",
    "tf.summary.scalar(\"accuracy\", acc)\n",
    "merged_summary_op = tf.summary.merge_all()"
   ]
  },
  {
   "cell_type": "code",
   "execution_count": 27,
   "metadata": {},
   "outputs": [],
   "source": [
    "#Defining empty lists to keep results\n",
    "acc_list = []\n",
    "cross_entropy_list = []\n",
    "acc_train = []"
   ]
  },
  {
   "cell_type": "code",
   "execution_count": 28,
   "metadata": {},
   "outputs": [],
   "source": [
    "#Creating a Saver object to save results\n",
    "saver = tf.train.Saver()"
   ]
  },
  {
   "cell_type": "code",
   "execution_count": 32,
   "metadata": {},
   "outputs": [
    {
     "ename": "ValueError",
     "evalue": "Cannot feed value of shape (32, 1) for Tensor 'Placeholder_1:0', which has shape '(?, 4)'",
     "output_type": "error",
     "traceback": [
      "\u001b[0;31m---------------------------------------------------------------------------\u001b[0m",
      "\u001b[0;31mValueError\u001b[0m                                Traceback (most recent call last)",
      "\u001b[0;32m<ipython-input-32-f1432fea3980>\u001b[0m in \u001b[0;36m<module>\u001b[0;34m()\u001b[0m\n\u001b[1;32m     11\u001b[0m             _ , c , summary,d = sess.run([train_data, cross_entropy, merged_summary_op,acc], \n\u001b[1;32m     12\u001b[0m                                          feed_dict={x:train_data[j:j+step_size], y_true:train_labels[j:j+step_size], \n\u001b[0;32m---> 13\u001b[0;31m                                                     hold_prob1:0.5, hold_prob2:0.5, hold_prob3:0.5, hold_prob4:0.5})\n\u001b[0m\u001b[1;32m     14\u001b[0m             \u001b[0msummary_writer\u001b[0m\u001b[0;34m.\u001b[0m\u001b[0madd_summary\u001b[0m\u001b[0;34m(\u001b[0m\u001b[0msummary\u001b[0m\u001b[0;34m,\u001b[0m \u001b[0mi\u001b[0m \u001b[0;34m*\u001b[0m \u001b[0mtotal_batch\u001b[0m \u001b[0;34m+\u001b[0m \u001b[0mj\u001b[0m\u001b[0;34m)\u001b[0m\u001b[0;34m\u001b[0m\u001b[0m\n\u001b[1;32m     15\u001b[0m             \u001b[0macc_train\u001b[0m\u001b[0;34m.\u001b[0m\u001b[0mappend\u001b[0m\u001b[0;34m(\u001b[0m\u001b[0md\u001b[0m\u001b[0;34m)\u001b[0m\u001b[0;34m\u001b[0m\u001b[0m\n",
      "\u001b[0;32m~/anaconda3/lib/python3.6/site-packages/tensorflow/python/client/session.py\u001b[0m in \u001b[0;36mrun\u001b[0;34m(self, fetches, feed_dict, options, run_metadata)\u001b[0m\n\u001b[1;32m    898\u001b[0m     \u001b[0;32mtry\u001b[0m\u001b[0;34m:\u001b[0m\u001b[0;34m\u001b[0m\u001b[0m\n\u001b[1;32m    899\u001b[0m       result = self._run(None, fetches, feed_dict, options_ptr,\n\u001b[0;32m--> 900\u001b[0;31m                          run_metadata_ptr)\n\u001b[0m\u001b[1;32m    901\u001b[0m       \u001b[0;32mif\u001b[0m \u001b[0mrun_metadata\u001b[0m\u001b[0;34m:\u001b[0m\u001b[0;34m\u001b[0m\u001b[0m\n\u001b[1;32m    902\u001b[0m         \u001b[0mproto_data\u001b[0m \u001b[0;34m=\u001b[0m \u001b[0mtf_session\u001b[0m\u001b[0;34m.\u001b[0m\u001b[0mTF_GetBuffer\u001b[0m\u001b[0;34m(\u001b[0m\u001b[0mrun_metadata_ptr\u001b[0m\u001b[0;34m)\u001b[0m\u001b[0;34m\u001b[0m\u001b[0m\n",
      "\u001b[0;32m~/anaconda3/lib/python3.6/site-packages/tensorflow/python/client/session.py\u001b[0m in \u001b[0;36m_run\u001b[0;34m(self, handle, fetches, feed_dict, options, run_metadata)\u001b[0m\n\u001b[1;32m   1109\u001b[0m                              \u001b[0;34m'which has shape %r'\u001b[0m \u001b[0;34m%\u001b[0m\u001b[0;34m\u001b[0m\u001b[0m\n\u001b[1;32m   1110\u001b[0m                              (np_val.shape, subfeed_t.name,\n\u001b[0;32m-> 1111\u001b[0;31m                               str(subfeed_t.get_shape())))\n\u001b[0m\u001b[1;32m   1112\u001b[0m           \u001b[0;32mif\u001b[0m \u001b[0;32mnot\u001b[0m \u001b[0mself\u001b[0m\u001b[0;34m.\u001b[0m\u001b[0mgraph\u001b[0m\u001b[0;34m.\u001b[0m\u001b[0mis_feedable\u001b[0m\u001b[0;34m(\u001b[0m\u001b[0msubfeed_t\u001b[0m\u001b[0;34m)\u001b[0m\u001b[0;34m:\u001b[0m\u001b[0;34m\u001b[0m\u001b[0m\n\u001b[1;32m   1113\u001b[0m             \u001b[0;32mraise\u001b[0m \u001b[0mValueError\u001b[0m\u001b[0;34m(\u001b[0m\u001b[0;34m'Tensor %s may not be fed.'\u001b[0m \u001b[0;34m%\u001b[0m \u001b[0msubfeed_t\u001b[0m\u001b[0;34m)\u001b[0m\u001b[0;34m\u001b[0m\u001b[0m\n",
      "\u001b[0;31mValueError\u001b[0m: Cannot feed value of shape (32, 1) for Tensor 'Placeholder_1:0', which has shape '(?, 4)'"
     ]
    }
   ],
   "source": [
    "#Changing settings for GPU running.\n",
    "config = tf.ConfigProto(allow_soft_placement=True)\n",
    "config.gpu_options.allow_growth = True\n",
    "config.gpu_options.allocator_type = 'BFC'\n",
    "#Training and saving the result\n",
    "with tf.Session(config=config) as sess:\n",
    "    sess.run(init)\n",
    "    summary_writer = tf.summary.FileWriter(TRAIN_DIR, graph=tf.get_default_graph())\n",
    "    for i in range(epochs):\n",
    "        for j in range(0,steps,step_size):            \n",
    "            _ , c , summary,d = sess.run([train_data, cross_entropy, merged_summary_op,acc], \n",
    "                                         feed_dict={x:train_data[j:j+step_size], y_true:train_labels[j:j+step_size], \n",
    "                                                    hold_prob1:0.5, hold_prob2:0.5, hold_prob3:0.5, hold_prob4:0.5})\n",
    "            summary_writer.add_summary(summary, i * total_batch + j)\n",
    "            acc_train.append(d)\n",
    "            mean_of_cross_entropy = sess.run(cross_entropy, \n",
    "                                             feed_dict={x:validation_data, y_true:validation_labels, hold_prob1:1.0, \n",
    "                                                        hold_prob2:1.0, hold_prob3:1.0, hold_prob4:1.0})\n",
    "            mean_of_acc = sess.run(acc, feed_dict={x:validation_data ,y_true:validation_labels, hold_prob1:1.0, \n",
    "                                                   hold_prob2:1.0, hold_prob3:1.0,hold_prob4:1.0})\n",
    "            cross_entropy_list.append(mean_of_cross_entropy)\n",
    "            acc_list.append(mean_of_acc)\n",
    "        print(i,mean_of_cross_entropy,mean_of_acc)\n",
    "    saver.save(sess, os.getcwd()+\"\\\\CNN_MC.ckpt\")\n",
    "    print(\"test accuracy = \",np.mean([sess.run(acc,feed_dict={x:test_data[:400], y_true:test_labels[:400], \n",
    "                                                              hold_prob1:1.0,hold_prob2:1.0, hold_prob3:1.0, \n",
    "                                                              hold_prob4:1.0}),\n",
    "                                      sess.run(acc,feed_dict={x:test_data[400:800], y_true:test_labels[400:800], \n",
    "                                                              hold_prob1:1.0, hold_prob2:1.0,hold_prob3:1.0, \n",
    "                                                              hold_prob4:1.0}), \n",
    "                                      sess.run(acc,feed_dict={x:test_data[800:], y_true:test_labels[800:] , \n",
    "                                                              hold_prob1:1.0, hold_prob2:1.0, hold_prob3:1.0, \n",
    "                                                              hold_prob4:1.0})]))   \n",
    "    print(\"cross_entropy loss = \",np.mean([sess.run(cross_entropy,feed_dict={x:test_data[:400], y_true:test_labels[:400],\n",
    "                                                                             hold_prob1:1.0, hold_prob2:1.0, \n",
    "                                                                             hold_prob3:1.0, hold_prob4:1.0}),\n",
    "                                           sess.run(cross_entropy,feed_dict={x:test_data[400:800], \n",
    "                                                                             y_true:test_labels[400:800], \n",
    "                                                                             hold_prob1:1.0, hold_prob2:1.0, \n",
    "                                                                             hold_prob3:1.0,hold_prob4:1.0}), \n",
    "                                           sess.run(cross_entropy,feed_dict={x:test_data[800:],y_true:test_labels[800:],\n",
    "                                                                             hold_prob1:1.0, hold_prob2:1.0,\n",
    "                                                                             hold_prob3:1.0, hold_prob4:1.0})]))"
   ]
  },
  {
   "cell_type": "code",
   "execution_count": null,
   "metadata": {},
   "outputs": [],
   "source": []
  }
 ],
 "metadata": {
  "kernelspec": {
   "display_name": "Python 3",
   "language": "python",
   "name": "python3"
  },
  "language_info": {
   "codemirror_mode": {
    "name": "ipython",
    "version": 3
   },
   "file_extension": ".py",
   "mimetype": "text/x-python",
   "name": "python",
   "nbconvert_exporter": "python",
   "pygments_lexer": "ipython3",
   "version": "3.6.4"
  }
 },
 "nbformat": 4,
 "nbformat_minor": 2
}
