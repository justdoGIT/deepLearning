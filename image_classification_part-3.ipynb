{
 "cells": [
  {
   "cell_type": "markdown",
   "metadata": {},
   "source": [
    "# Cat vs. Dog Image Classification\n",
    "## Exercise 3: Feature Extraction and Fine-Tuning\n",
    "**_Estimated completion time: 30 minutes_**\n",
    "\n",
    "In Exercise 1, we built a convnet from scratch, and were able to achieve an accuracy of about 70%. With the addition of data augmentation and dropout in Exercise 2, we were able to increase accuracy to about 80%. That seems decent, but 20% is still too high of an error rate. Maybe we just don't have enough training data available to properly solve the problem. What other approaches can we try?\n",
    "\n",
    "In this exercise, we'll look at two techniques for repurposing feature data generated from image models that have already been trained on large sets of data, **feature extraction** and **fine tuning**, and use them to improve the accuracy of our cat vs. dog classification model."
   ]
  },
  {
   "cell_type": "markdown",
   "metadata": {},
   "source": [
    "## Feature Extraction Using a Pretrained Model\n",
    "\n",
    "One thing that is commonly done in computer vision is to take a model trained on a very large dataset, run it on your own, smaller dataset, and extract the intermediate representations (features) that the model generates. These representations are frequently informative for your own computer vision task, even though the task may be quite different from the problem that the original model was trained on. This versatility and repurposability of convnets is one of the most interesting aspects of deep learning.\n",
    "\n",
    "In our case, we will use the [Inception V3 model](https://arxiv.org/abs/1512.00567) developed at Google, and pre-trained on [ImageNet](http://image-net.org/), a large dataset of web images (1.4M images and 1000 classes). This is a powerful model; let's see what the features that it has learned can do for our cat vs. dog problem.\n",
    "\n",
    "First, we need to pick which intermediate layer of Inception V3 we will use for feature extraction. A common practice is to use the output of the very last layer before the `Flatten` operation, the so-called \"bottleneck layer.\" The reasoning here is that the following fully connected layers will be too specialized for the task the network was trained on, and thus the features learned by these layers won't be very useful for a new task. The bottleneck features, however, retain much generality.\n",
    "\n",
    "Let's instantiate an Inception V3 model preloaded with weights trained on ImageNet:\n"
   ]
  },
  {
   "cell_type": "code",
   "execution_count": 1,
   "metadata": {},
   "outputs": [
    {
     "name": "stderr",
     "output_type": "stream",
     "text": [
      "Using TensorFlow backend.\n"
     ]
    }
   ],
   "source": [
    "import os\n",
    "import tensorflow as tf\n",
    "\n",
    "from keras.applications.inception_v3 import InceptionV3\n",
    "from keras import layers\n",
    "from keras.models import Model\n",
    "from keras.optimizers import RMSprop\n",
    "from keras import backend as K\n",
    "\n",
    "# Configure the TF backend session\n",
    "tf_config = tf.ConfigProto(\n",
    "    gpu_options=tf.GPUOptions(allow_growth=True))\n",
    "K.set_session(tf.Session(config=tf_config))"
   ]
  },
  {
   "cell_type": "code",
   "execution_count": 2,
   "metadata": {},
   "outputs": [
    {
     "name": "stdout",
     "output_type": "stream",
     "text": [
      "--2018-06-15 13:29:36--  https://storage.googleapis.com/mledu-datasets/inception_v3_weights_tf_dim_ordering_tf_kernels_notop.h5\n",
      "Resolving dettdmzlx01.dmz.tt.de.intra.ifm (dettdmzlx01.dmz.tt.de.intra.ifm)... 192.168.250.250\n",
      "Connecting to dettdmzlx01.dmz.tt.de.intra.ifm (dettdmzlx01.dmz.tt.de.intra.ifm)|192.168.250.250|:3135... connected.\n",
      "Proxy request sent, awaiting response... 200 OK\n",
      "Length: 87910968 (84M) [application/x-hdf]\n",
      "Saving to: ‘/home/kamal/codes/deepLearning/google_ml_crash_course/inception_v3_weights_tf_dim_ordering_tf_kernels_notop.h5’\n",
      "\n",
      "/home/kamal/codes/d 100%[===================>]  83.84M   187KB/s    in 7m 11s  \n",
      "\n",
      "2018-06-15 13:36:49 (199 KB/s) - ‘/home/kamal/codes/deepLearning/google_ml_crash_course/inception_v3_weights_tf_dim_ordering_tf_kernels_notop.h5’ saved [87910968/87910968]\n",
      "\n"
     ]
    }
   ],
   "source": [
    "!wget --no-check-certificate \\\n",
    "    https://storage.googleapis.com/mledu-datasets/inception_v3_weights_tf_dim_ordering_tf_kernels_notop.h5 \\\n",
    "    -O /home/kamal/codes/deepLearning/google_ml_crash_course/inception_v3_weights_tf_dim_ordering_tf_kernels_notop.h5"
   ]
  },
  {
   "cell_type": "code",
   "execution_count": 4,
   "metadata": {},
   "outputs": [],
   "source": [
    "local_weights_file = '/home/kamal/codes/deepLearning/google_ml_crash_course/inception_v3_weights_tf_dim_ordering_tf_kernels_notop.h5'\n",
    "pre_trained_model = InceptionV3(\n",
    "    input_shape=(150, 150, 3), include_top=False, weights=None)\n",
    "pre_trained_model.load_weights(local_weights_file)"
   ]
  },
  {
   "cell_type": "markdown",
   "metadata": {},
   "source": [
    "By specifying the `include_top=False` argument, we load a network that doesn't include the classification layers at the top—ideal for feature extraction."
   ]
  },
  {
   "cell_type": "markdown",
   "metadata": {},
   "source": [
    "Let's make the model non-trainable, since we will only use it for feature extraction; we won't update the weights of the pretrained model during training."
   ]
  },
  {
   "cell_type": "code",
   "execution_count": 5,
   "metadata": {},
   "outputs": [],
   "source": [
    "for layer in pre_trained_model.layers:\n",
    "    layer.trainable = False"
   ]
  },
  {
   "cell_type": "markdown",
   "metadata": {},
   "source": [
    "The layer we will use for feature extraction in Inception v3 is called `mixed7`. It is not the bottleneck of the network, but we are using it to keep a sufficiently large feature map (7x7 in this case). (Using the bottleneck layer would have resulting in a 3x3 feature map, which is a bit small.) Let's get the output from `mixed7`:"
   ]
  },
  {
   "cell_type": "code",
   "execution_count": 6,
   "metadata": {},
   "outputs": [
    {
     "name": "stdout",
     "output_type": "stream",
     "text": [
      "last layer output shape (None, 7, 7, 768)\n"
     ]
    }
   ],
   "source": [
    "last_layer = pre_trained_model.get_layer('mixed7')\n",
    "print(\"last layer output shape\", last_layer.output_shape)\n",
    "last_output = last_layer.output"
   ]
  },
  {
   "cell_type": "markdown",
   "metadata": {},
   "source": [
    "Now let's stick a fully connected classifier on top of `last_output`:"
   ]
  },
  {
   "cell_type": "code",
   "execution_count": 7,
   "metadata": {},
   "outputs": [],
   "source": [
    "x = layers.Flatten()(last_output)\n",
    "x = layers.Dense(1024, activation = 'relu')(x)\n",
    "x = layers.Dropout(0.2)(x)\n",
    "x = layers.Dense(1, activation= 'sigmoid')(x)\n",
    "model = Model(pre_trained_model.input, x)\n",
    "model.compile(loss = 'binary_crossentropy',\n",
    "              optimizer = RMSprop(lr = 0.0001),\n",
    "              metrics = ['acc'])"
   ]
  },
  {
   "cell_type": "markdown",
   "metadata": {},
   "source": [
    "For examples and data preprocessing, let's use the same files and `train_generator` as we did in Exercise 2."
   ]
  },
  {
   "cell_type": "markdown",
   "metadata": {},
   "source": [
    "**NOTE:** The 2,000 images used in this exercise are excerpted from the [\"Dogs vs. Cats\" dataset](https://www.kaggle.com/c/dogs-vs-cats/data) available on Kaggle, which contains 25,000 images. Here, we use a subset of the full dataset to decrease training time for educational purposes."
   ]
  },
  {
   "cell_type": "code",
   "execution_count": 8,
   "metadata": {},
   "outputs": [
    {
     "name": "stdout",
     "output_type": "stream",
     "text": [
      "Found 2000 images belonging to 2 classes.\n",
      "Found 1000 images belonging to 2 classes.\n"
     ]
    }
   ],
   "source": [
    "# Define our example directories and files\n",
    "base_dir = '/home/kamal/codes/deepLearning/google_ml_crash_course/cats_and_dogs_filtered'\n",
    "train_dir = os.path.join(base_dir, 'train')\n",
    "validation_dir = os.path.join(base_dir, 'validation')\n",
    "\n",
    "# Directory with our training cat pictures\n",
    "train_cats_dir = os.path.join(train_dir, 'cats')\n",
    "\n",
    "# Directory with our training dog pictures\n",
    "train_dogs_dir = os.path.join(train_dir, 'dogs')\n",
    "\n",
    "# Directory with our validation cat pictures\n",
    "validation_cats_dir = os.path.join(validation_dir, 'cats')\n",
    "\n",
    "# Directory with our validation dog pictures\n",
    "validation_dogs_dir = os.path.join(validation_dir, 'dogs')\n",
    "\n",
    "train_cat_fnames = os.listdir(train_cats_dir)\n",
    "train_dog_fnames = os.listdir(train_dogs_dir)\n",
    "\n",
    "from keras.preprocessing.image import ImageDataGenerator\n",
    "\n",
    "# Add our data-augmentation parameters to ImageDataGenerator\n",
    "train_datagen = ImageDataGenerator(\n",
    "    rescale=1./255,\n",
    "    rotation_range=40,\n",
    "    width_shift_range=0.2,\n",
    "    height_shift_range=0.2,\n",
    "    shear_range=0.2,\n",
    "    zoom_range=0.2,\n",
    "    horizontal_flip=True)\n",
    "\n",
    "# Note that the validation data should not be augmented!\n",
    "test_datagen = ImageDataGenerator(rescale=1./255)\n",
    "\n",
    "train_generator = train_datagen.flow_from_directory(\n",
    "        train_dir, # This is the source directory for training images\n",
    "        target_size=(150, 150),  # All images will be resized to 150x150\n",
    "        batch_size=20,\n",
    "        # Since we use binary_crossentropy loss, we need binary labels\n",
    "        class_mode='binary')\n",
    "\n",
    "# Flow validation images in batches of 20 using test_datagen generator\n",
    "validation_generator = test_datagen.flow_from_directory(\n",
    "        validation_dir,\n",
    "        target_size=(150, 150),\n",
    "        batch_size=20,\n",
    "        class_mode='binary')"
   ]
  },
  {
   "cell_type": "markdown",
   "metadata": {},
   "source": [
    "Finally, let's train the model using the features we extracted. We'll train on all 2000 images available, for 2 epochs, and validate on all 1,000 test images."
   ]
  },
  {
   "cell_type": "code",
   "execution_count": 9,
   "metadata": {},
   "outputs": [
    {
     "name": "stdout",
     "output_type": "stream",
     "text": [
      "Epoch 1/2\n",
      " - 208s - loss: 0.5084 - acc: 0.7590 - val_loss: 0.2034 - val_acc: 0.9350\n",
      "Epoch 2/2\n",
      " - 188s - loss: 0.3700 - acc: 0.8415 - val_loss: 0.4558 - val_acc: 0.9030\n"
     ]
    }
   ],
   "source": [
    "history = model.fit_generator(\n",
    "      train_generator,\n",
    "      steps_per_epoch=100,\n",
    "      epochs=2,\n",
    "      validation_data=validation_generator,\n",
    "      validation_steps=50,\n",
    "      verbose=2)"
   ]
  },
  {
   "cell_type": "markdown",
   "metadata": {},
   "source": [
    "## Further Improving Accuracy with Fine-Tuning\n",
    "\n",
    "In our feature-extraction experiment, we only tried adding two classification layers on top of an Inception V3 layer. The weights of the pretrained network were not updated during training. One way to increase performance even further is to \"fine-tune\" the weights of the top layers of the pretrained model alongside the training of the top-level classifier. A couple of important notes on fine-tuning:\n",
    "\n",
    "- **Fine-tuning should only be attempted *after* you have trained the top-level classifier with the pretrained model set to non-trainable**. If you add a randomly initialized classifier on top of a pretrained model and attempt to train all layers jointly, the magnitude of the gradient updates will be too large (due to the random weights from the classifier), and your pretrained model will just forget everything it has learned.\n",
    "- Additionally, we **fine-tune only the *top layers* of the pre-trained model** rather than all layers of the pretrained model because, in a convnet, the higher up a layer is, the more specialized it is. The first few layers in a convnet learn very simple and generic features, which generalize to almost all types of images. But as you go higher up, the features are increasingly specific to the dataset that the model is trained on. The goal of fine-tuning is to adapt these specialized features to work with the new dataset.\n",
    "\n",
    "All we need to do to implement fine-tuning is to set the top layers of Inception V3 to be trainable, recompile the model (necessary for these changes to take effect), and resume training. Let's unfreeze all layers belonging to the `mixed7` module—i.e., all layers found after `mixed6`—and recompile the model:"
   ]
  },
  {
   "cell_type": "code",
   "execution_count": 10,
   "metadata": {},
   "outputs": [],
   "source": [
    "unfreeze = False\n",
    "for layer in pre_trained_model.layers:\n",
    "    if unfreeze:\n",
    "        layer.trainable = True\n",
    "    if layer.name == 'mixed6':\n",
    "        unfreeze = True\n",
    "from keras.optimizers import SGD\n",
    "model.compile(loss = 'binary_crossentropy',\n",
    "              optimizer = SGD(lr = 0.00001, momentum = 0.9),\n",
    "              metrics = ['acc'])"
   ]
  },
  {
   "cell_type": "markdown",
   "metadata": {},
   "source": [
    "Now let's retrain the model. We'll train on all 2000 images available, for 50 epochs, and validate on all 1,000 test images. (This may take 15-20 minutes to run.)"
   ]
  },
  {
   "cell_type": "code",
   "execution_count": 11,
   "metadata": {},
   "outputs": [
    {
     "name": "stdout",
     "output_type": "stream",
     "text": [
      "Epoch 1/50\n",
      " - 237s - loss: 0.3115 - acc: 0.8630 - val_loss: 0.4265 - val_acc: 0.9150\n",
      "Epoch 2/50\n",
      " - 214s - loss: 0.2889 - acc: 0.8750 - val_loss: 0.4036 - val_acc: 0.9150\n",
      "Epoch 3/50\n",
      " - 251s - loss: 0.2879 - acc: 0.8685 - val_loss: 0.3945 - val_acc: 0.9160\n",
      "Epoch 4/50\n",
      " - 213s - loss: 0.2990 - acc: 0.8785 - val_loss: 0.3739 - val_acc: 0.9160\n",
      "Epoch 5/50\n",
      " - 196s - loss: 0.2894 - acc: 0.8670 - val_loss: 0.3690 - val_acc: 0.9180\n",
      "Epoch 6/50\n",
      " - 202s - loss: 0.2843 - acc: 0.8810 - val_loss: 0.3689 - val_acc: 0.9180\n",
      "Epoch 7/50\n",
      " - 195s - loss: 0.2741 - acc: 0.8825 - val_loss: 0.3520 - val_acc: 0.9210\n",
      "Epoch 8/50\n",
      " - 199s - loss: 0.2907 - acc: 0.8720 - val_loss: 0.3527 - val_acc: 0.9210\n",
      "Epoch 9/50\n",
      " - 208s - loss: 0.2648 - acc: 0.8795 - val_loss: 0.3446 - val_acc: 0.9220\n",
      "Epoch 10/50\n",
      " - 195s - loss: 0.2974 - acc: 0.8680 - val_loss: 0.3419 - val_acc: 0.9220\n",
      "Epoch 11/50\n",
      " - 209s - loss: 0.2846 - acc: 0.8830 - val_loss: 0.3355 - val_acc: 0.9240\n",
      "Epoch 12/50\n",
      " - 192s - loss: 0.3099 - acc: 0.8645 - val_loss: 0.3264 - val_acc: 0.9270\n",
      "Epoch 13/50\n",
      " - 202s - loss: 0.2789 - acc: 0.8725 - val_loss: 0.3261 - val_acc: 0.9280\n",
      "Epoch 14/50\n",
      " - 199s - loss: 0.2891 - acc: 0.8785 - val_loss: 0.3246 - val_acc: 0.9270\n",
      "Epoch 15/50\n",
      " - 221s - loss: 0.2612 - acc: 0.8850 - val_loss: 0.3156 - val_acc: 0.9310\n",
      "Epoch 16/50\n",
      " - 210s - loss: 0.2880 - acc: 0.8735 - val_loss: 0.3187 - val_acc: 0.9310\n",
      "Epoch 17/50\n",
      " - 215s - loss: 0.2970 - acc: 0.8660 - val_loss: 0.3134 - val_acc: 0.9310\n",
      "Epoch 18/50\n",
      " - 220s - loss: 0.2821 - acc: 0.8790 - val_loss: 0.3103 - val_acc: 0.9310\n",
      "Epoch 19/50\n",
      " - 192s - loss: 0.2734 - acc: 0.8825 - val_loss: 0.3072 - val_acc: 0.9310\n",
      "Epoch 20/50\n",
      " - 215s - loss: 0.2682 - acc: 0.8815 - val_loss: 0.3042 - val_acc: 0.9310\n",
      "Epoch 21/50\n",
      " - 270s - loss: 0.2849 - acc: 0.8750 - val_loss: 0.3016 - val_acc: 0.9330\n",
      "Epoch 22/50\n",
      " - 243s - loss: 0.2751 - acc: 0.8815 - val_loss: 0.3000 - val_acc: 0.9330\n",
      "Epoch 23/50\n",
      " - 238s - loss: 0.2988 - acc: 0.8600 - val_loss: 0.2951 - val_acc: 0.9330\n",
      "Epoch 24/50\n",
      " - 222s - loss: 0.2804 - acc: 0.8845 - val_loss: 0.2970 - val_acc: 0.9350\n",
      "Epoch 25/50\n",
      " - 212s - loss: 0.2669 - acc: 0.8825 - val_loss: 0.2951 - val_acc: 0.9320\n",
      "Epoch 26/50\n",
      " - 201s - loss: 0.2715 - acc: 0.8815 - val_loss: 0.2915 - val_acc: 0.9350\n",
      "Epoch 27/50\n",
      " - 205s - loss: 0.2723 - acc: 0.8785 - val_loss: 0.2918 - val_acc: 0.9360\n",
      "Epoch 28/50\n",
      " - 193s - loss: 0.2815 - acc: 0.8785 - val_loss: 0.2932 - val_acc: 0.9360\n",
      "Epoch 29/50\n",
      " - 208s - loss: 0.2633 - acc: 0.8830 - val_loss: 0.2865 - val_acc: 0.9360\n",
      "Epoch 30/50\n",
      " - 206s - loss: 0.2630 - acc: 0.8805 - val_loss: 0.2877 - val_acc: 0.9370\n",
      "Epoch 31/50\n",
      " - 223s - loss: 0.2921 - acc: 0.8640 - val_loss: 0.2859 - val_acc: 0.9390\n",
      "Epoch 32/50\n",
      " - 210s - loss: 0.2687 - acc: 0.8860 - val_loss: 0.2838 - val_acc: 0.9390\n",
      "Epoch 33/50\n",
      " - 207s - loss: 0.2629 - acc: 0.8900 - val_loss: 0.2803 - val_acc: 0.9400\n",
      "Epoch 34/50\n",
      " - 207s - loss: 0.2708 - acc: 0.8900 - val_loss: 0.2775 - val_acc: 0.9410\n",
      "Epoch 35/50\n",
      " - 199s - loss: 0.2564 - acc: 0.8935 - val_loss: 0.2756 - val_acc: 0.9410\n",
      "Epoch 36/50\n",
      " - 219s - loss: 0.2809 - acc: 0.8775 - val_loss: 0.2709 - val_acc: 0.9410\n",
      "Epoch 37/50\n",
      " - 212s - loss: 0.2849 - acc: 0.8825 - val_loss: 0.2679 - val_acc: 0.9410\n",
      "Epoch 38/50\n",
      " - 214s - loss: 0.2684 - acc: 0.8795 - val_loss: 0.2664 - val_acc: 0.9410\n",
      "Epoch 39/50\n",
      " - 214s - loss: 0.2684 - acc: 0.8850 - val_loss: 0.2702 - val_acc: 0.9410\n",
      "Epoch 40/50\n",
      " - 221s - loss: 0.2744 - acc: 0.8790 - val_loss: 0.2696 - val_acc: 0.9420\n",
      "Epoch 41/50\n",
      " - 211s - loss: 0.2685 - acc: 0.8895 - val_loss: 0.2662 - val_acc: 0.9410\n",
      "Epoch 42/50\n",
      " - 213s - loss: 0.2750 - acc: 0.8730 - val_loss: 0.2685 - val_acc: 0.9410\n",
      "Epoch 43/50\n",
      " - 204s - loss: 0.2772 - acc: 0.8830 - val_loss: 0.2659 - val_acc: 0.9410\n",
      "Epoch 44/50\n",
      " - 195s - loss: 0.2670 - acc: 0.8840 - val_loss: 0.2657 - val_acc: 0.9410\n",
      "Epoch 45/50\n",
      " - 219s - loss: 0.2755 - acc: 0.8780 - val_loss: 0.2642 - val_acc: 0.9420\n",
      "Epoch 46/50\n",
      " - 203s - loss: 0.2646 - acc: 0.8840 - val_loss: 0.2622 - val_acc: 0.9420\n",
      "Epoch 47/50\n",
      " - 223s - loss: 0.2720 - acc: 0.8845 - val_loss: 0.2605 - val_acc: 0.9420\n",
      "Epoch 48/50\n",
      " - 205s - loss: 0.2713 - acc: 0.8845 - val_loss: 0.2583 - val_acc: 0.9430\n",
      "Epoch 49/50\n",
      " - 217s - loss: 0.2635 - acc: 0.8835 - val_loss: 0.2536 - val_acc: 0.9460\n",
      "Epoch 50/50\n",
      " - 206s - loss: 0.2798 - acc: 0.8765 - val_loss: 0.2588 - val_acc: 0.9430\n"
     ]
    }
   ],
   "source": [
    "history = model.fit_generator(\n",
    "      train_generator,\n",
    "      steps_per_epoch=100,\n",
    "      epochs=50,\n",
    "      validation_data=validation_generator,\n",
    "      validation_steps=50,\n",
    "      verbose=2)"
   ]
  },
  {
   "cell_type": "markdown",
   "metadata": {},
   "source": [
    "We are seeing a nice improvement, with the validation loss going from ~1.7 down to ~1.2, and accuracy going from 88% to 92%. That's a 4.5% relative improvement in accuracy.\n",
    "\n",
    "Let's plot the training and validation loss and accuracy to show it conclusively:"
   ]
  },
  {
   "cell_type": "code",
   "execution_count": 12,
   "metadata": {},
   "outputs": [
    {
     "data": {
      "text/plain": [
       "Text(0.5,1,'Training and validation loss')"
      ]
     },
     "execution_count": 12,
     "metadata": {},
     "output_type": "execute_result"
    },
    {
     "data": {
      "image/png": "[encoded data removed]",
      "text/plain": [
       "<matplotlib.figure.Figure at 0x7f0579edff60>"
      ]
     },
     "metadata": {},
     "output_type": "display_data"
    },
    {
     "data": {
      "image/png": "[encoded data removed]",
      "text/plain": [
       "<matplotlib.figure.Figure at 0x7f0578ab87b8>"
      ]
     },
     "metadata": {},
     "output_type": "display_data"
    }
   ],
   "source": [
    "%matplotlib inline\n",
    "\n",
    "import matplotlib.pyplot as plt\n",
    "import matplotlib.image as mpimg\n",
    "\n",
    "# Retrieve a list of accuracy results on training and test data\n",
    "# sets for each training epoch\n",
    "acc = history.history['acc']\n",
    "val_acc = history.history['val_acc']\n",
    "\n",
    "# Retrieve a list of list results on training and test data\n",
    "# sets for each training epoch\n",
    "loss = history.history['loss']\n",
    "val_loss = history.history['val_loss']\n",
    "\n",
    "# Get number of epochs\n",
    "epochs = range(len(acc))\n",
    "\n",
    "# Plot training and validation accuracy per epoch\n",
    "plt.plot(epochs, acc)\n",
    "plt.plot(epochs, val_acc)\n",
    "plt.title('Training and validation accuracy')\n",
    "\n",
    "plt.figure()\n",
    "\n",
    "# Plot training and validation loss per epoch\n",
    "plt.plot(epochs, loss)\n",
    "plt.plot(epochs, val_loss)\n",
    "plt.title('Training and validation loss')"
   ]
  },
  {
   "cell_type": "code",
   "execution_count": null,
   "metadata": {},
   "outputs": [],
   "source": []
  }
 ],
 "metadata": {
  "kernelspec": {
   "display_name": "Python 3",
   "language": "python",
   "name": "python3"
  },
  "language_info": {
   "codemirror_mode": {
    "name": "ipython",
    "version": 3
   },
   "file_extension": ".py",
   "mimetype": "text/x-python",
   "name": "python",
   "nbconvert_exporter": "python",
   "pygments_lexer": "ipython3",
   "version": "3.6.4"
  }
 },
 "nbformat": 4,
 "nbformat_minor": 2
}
